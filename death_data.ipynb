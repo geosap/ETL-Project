{
 "cells": [
  {
   "cell_type": "code",
   "execution_count": null,
   "metadata": {},
   "outputs": [],
   "source": [
    "import pandas as pd\n",
    "from sqlalchemy import create_engine"
   ]
  },
  {
   "cell_type": "code",
   "execution_count": null,
   "metadata": {},
   "outputs": [],
   "source": [
    "data = \"../00_SMU_Project2/data/covid_deaths_by_state.csv\"\n",
    "death_df = pd.read_csv(data)\n",
    "death_df.head()"
   ]
  },
  {
   "cell_type": "code",
   "execution_count": null,
   "metadata": {
    "scrolled": true
   },
   "outputs": [],
   "source": [
    "#revoming unneccessary columns  \n",
    "updated_df = death_df.drop(columns = ['created_at', 'prob_cases', 'pnew_case', 'prob_death', 'pnew_death', \n",
    "                                      'consent_cases', 'consent_deaths', 'new_death'])\n",
    "updated_df.head()"
   ]
  },
  {
   "cell_type": "code",
   "execution_count": null,
   "metadata": {},
   "outputs": [],
   "source": [
    "#renaming columns to proper names \n",
    "renamed_df = updated_df.rename(columns={'submission_date': 'Submission Date', 'state': 'State', \n",
    "                                       'tot_cases': 'Total Cases', 'conf_cases' : 'Confirmed Cases',\n",
    "                                       'new_case' : 'New Cases', 'tot_death' : 'Total Deaths', \n",
    "                                        'conf_death' : 'Confirmed Deaths'})\n",
    "renamed_df.head()"
   ]
  },
  {
   "cell_type": "code",
   "execution_count": null,
   "metadata": {},
   "outputs": [],
   "source": [
    "#dropping 0 case submissions before the first reported date \n",
    "clean_df = renamed_df.dropna(thresh=5)\n",
    "clean_df.head()"
   ]
  },
  {
   "cell_type": "code",
   "execution_count": null,
   "metadata": {},
   "outputs": [],
   "source": [
    "#look through dataframe and only keep values where total cases =! 0\n",
    "#if total cases = 0, drop row \n",
    "updated_df = clean_df[clean_df['Total Cases'] != 0]\n",
    "updated_df.head()"
   ]
  },
  {
   "cell_type": "code",
   "execution_count": null,
   "metadata": {},
   "outputs": [],
   "source": [
    "#look through data frame to ensure that all states are of the 50 states \n",
    "#if state does not equal actual state abbreviation , drop row \n",
    "updated_df['State'].unique()\n"
   ]
  },
  {
   "cell_type": "code",
   "execution_count": null,
   "metadata": {},
   "outputs": [],
   "source": [
    "#create list of states \n",
    "state_list = ['AL','AK','AZ','AR','CA','CO','CT','DE','FL'\n",
    ",'GA','HI','ID','IL','IN','IA','KS','KY','LA','ME','MD','MA','MI','MN'\n",
    ",'MS','MO','MT','NE','NV','NH','NJ','NM','NY','NC','ND','OH','OK','OR'\n",
    ",'PA','RI','SC','SD','TN','TX','UT' ,'VT','VA','WA','WV', 'WI', 'WY']"
   ]
  },
  {
   "cell_type": "code",
   "execution_count": null,
   "metadata": {},
   "outputs": [],
   "source": [
    "#drop territories and other abbreviations not in the 50 states list \n",
    "final_df = updated_df[updated_df['State'].isin(state_list)]\n",
    "\n",
    "#check to see if there is 50 states in df now\n",
    "final_df['State'].unique()"
   ]
  },
  {
   "cell_type": "code",
   "execution_count": null,
   "metadata": {},
   "outputs": [],
   "source": [
    "#display final df \n",
    "final_df.head()"
   ]
  },
  {
   "cell_type": "code",
   "execution_count": null,
   "metadata": {},
   "outputs": [],
   "source": [
    "#create database connection \n",
    "#connection_string = \"postgres:postgres@localhost:5432/covid_death_db\"\n",
    "#engine = create_engine(f'postgresql://{connection_string}')"
   ]
  },
  {
   "cell_type": "code",
   "execution_count": null,
   "metadata": {},
   "outputs": [],
   "source": [
    "#confirm tables \n",
    "#engine.table_names()"
   ]
  },
  {
   "cell_type": "code",
   "execution_count": null,
   "metadata": {},
   "outputs": [],
   "source": [
    "#load dataframe into database\n",
    "#final_df.to_sql(name='covid_deaths', con=engine, if_exists='append',index=False)"
   ]
  },
  {
   "cell_type": "code",
   "execution_count": null,
   "metadata": {},
   "outputs": [],
   "source": []
  }
 ],
 "metadata": {
  "kernelspec": {
   "display_name": "Python 3",
   "language": "python",
   "name": "python3"
  },
  "language_info": {
   "codemirror_mode": {
    "name": "ipython",
    "version": 3
   },
   "file_extension": ".py",
   "mimetype": "text/x-python",
   "name": "python",
   "nbconvert_exporter": "python",
   "pygments_lexer": "ipython3",
   "version": "3.7.6"
  }
 },
 "nbformat": 4,
 "nbformat_minor": 4
}
