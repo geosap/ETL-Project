{
 "cells": [
  {
   "cell_type": "code",
   "execution_count": 111,
   "metadata": {},
   "outputs": [],
   "source": [
    "# Dependencies\n",
    "import pandas as pd\n",
    "from sqlalchemy import create_engine\n",
    "from census import Census\n",
    "# Import API key\n",
    "from dotenv import load_dotenv\n",
    "import os\n",
    "#adds variable from environments - may need to pip install python-dotenv\n",
    "load_dotenv()\n",
    "\n",
    "# Establish Key Variables\n",
    "api_key = os.environ.get(\"api_key\")\n",
    "if api_key == \"None\":\n",
    "    api_key = input(\"Please enter a valid US Census API Key: \")"
   ]
  },
  {
   "source": [
    "### Pull Census API Data"
   ],
   "cell_type": "markdown",
   "metadata": {}
  },
  {
   "cell_type": "code",
   "execution_count": 112,
   "metadata": {
    "tags": []
   },
   "outputs": [],
   "source": [
    "## This kernel pulls census data directly from the US Census API - the output is then used to transform the data below. If no US CENSUS API key available, please skip this Kernel and use previous CSV file for SQL output.\n",
    "try:\n",
    "    # Run Census Search to retrieve data on all states\n",
    "    State_Census_Data = Census(api_key, year=2019).acs1.get((\"NAME\",\n",
    "    \"B19013_001E\",\n",
    "    \"B01003_001E\",\n",
    "    \"B01002_001E\",\n",
    "    \"B19301_001E\",\n",
    "    \"B17001_002E\",\n",
    "    \"B23025_005E\",\n",
    "    \"B27020_006E\",\n",
    "    \"B27020_012E\",\n",
    "    \"B27020_017E\"),\n",
    "    {'for': 'state:*'})\n",
    "\n",
    "    # Convert to DataFrame\n",
    "    State_Census_df = pd.DataFrame(State_Census_Data)\n",
    "    # Calculates the total of uninsured residents into a new column\n",
    "    State_Census_df[\"No_Ins\"] = State_Census_df[\"B27020_006E\"] + State_Census_df[\"B27020_012E\"] + State_Census_df[\"B27020_017E\"]\n",
    "\n",
    "    # Column Reordering\n",
    "    State_Census_df = State_Census_df.rename(columns={\"B01003_001E\": \"Population\",\n",
    "    \"B01002_001E\": \"Median Age\",\n",
    "    \"B19013_001E\": \"Household Income\",\n",
    "    \"B19301_001E\": \"Per Capita Income\",\n",
    "    \"B17001_002E\": \"Poverty Count\",\n",
    "    \"B23025_005E\": \"Unemployment Count\",\n",
    "    \"B27020_006E\": \"Native Born with no health insurance coverage\",\n",
    "    \"B27020_012E\": \"Foreign Born with no health insurance coverage\",\n",
    "    \"B27020_017E\": \"Noncitizen with no health insurance coverage\",\n",
    "    \"No_Ins\": \"Uninsured Residents\",\n",
    "    \"NAME\": \"State\", \"state\": \"State ID\"})\n",
    "\n",
    "    # Add in Poverty Rate (Poverty Count / Population)\n",
    "    State_Census_df[\"Poverty Rate\"] = 100 * \\\n",
    "        State_Census_df[\"Poverty Count\"].astype(\n",
    "            int) / State_Census_df[\"Population\"].astype(int)\n",
    "\n",
    "    # Add in Employment Rate (Employment Count / Population)\n",
    "    State_Census_df[\"Unemployment Rate\"] = 100 * \\\n",
    "        State_Census_df[\"Unemployment Count\"].astype(\n",
    "            int) / State_Census_df[\"Population\"].astype(int)\n",
    "\n",
    "    # Final Output DataFrame\n",
    "    State_Census_df = State_Census_df[[\"State\", \n",
    "    \"Population\",\n",
    "    \"Median Age\",\n",
    "    \"Household Income\",\n",
    "    \"Per Capita Income\",\n",
    "    \"Poverty Count\",\n",
    "    \"Poverty Rate\",\n",
    "    \"Unemployment Rate\", \n",
    "    \"Uninsured Residents\"]]\n",
    "\n",
    "    # Sort Dataframe by State and reset index\n",
    "    State_Census_df = State_Census_df.sort_values(by=\"State\")\n",
    "    State_Census_df.reset_index(drop=True, inplace=True)\n",
    "\n",
    "    # Outputs datframe to CSV file\n",
    "    State_Census_df.to_csv(\"data/state_census_data.csv\", encoding=\"utf-8\", index=False)\n",
    "    State_Census_df.head()\n",
    "except:\n",
    "    print(\"There was an error with the API Data Import - will continue using previously outputted CSV Data\")"
   ]
  },
  {
   "cell_type": "markdown",
   "metadata": {},
   "source": [
    "### Extract CSVs into DataFrames"
   ]
  },
  {
   "cell_type": "code",
   "execution_count": 113,
   "metadata": {},
   "outputs": [
    {
     "output_type": "execute_result",
     "data": {
      "text/plain": "State                  52\nPopulation             52\nMedian Age             52\nHousehold Income       52\nPer Capita Income      52\nPoverty Count          52\nPoverty Rate           52\nUnemployment Rate      52\nUninsured Residents    52\ndtype: int64"
     },
     "metadata": {},
     "execution_count": 113
    }
   ],
   "source": [
    "State_Census_URL = \"data/state_census_data.csv\"\n",
    "State_Census_df = pd.read_csv(State_Census_URL)\n",
    "State_Census_df.count()"
   ]
  },
  {
   "cell_type": "code",
   "execution_count": 114,
   "metadata": {},
   "outputs": [],
   "source": [
    "# File_3_URL = \"data/PLACEHOLDER.csv\"\n",
    "# File_3_df = pd.read_csv(File_3_URL)\n",
    "# File_3_df.count()"
   ]
  },
  {
   "cell_type": "code",
   "execution_count": 115,
   "metadata": {},
   "outputs": [],
   "source": [
    "# File_2_URL = \"data/PLACEHOLDER.csv\"\n",
    "# File_2_df = pd.read_csv(File_2_URL)\n",
    "# File_2_df.count()"
   ]
  },
  {
   "source": [
    "## Transform Data"
   ],
   "cell_type": "markdown",
   "metadata": {}
  },
  {
   "cell_type": "code",
   "execution_count": 116,
   "metadata": {},
   "outputs": [
    {
     "output_type": "execute_result",
     "data": {
      "text/plain": "  State  Population  Median Age  Household Income  Per Capita Income  \\\n0    AL   4903185.0        39.4           51734.0            28650.0   \n1    AK    731545.0        35.0           75463.0            36978.0   \n2    AZ   7278717.0        38.3           62055.0            32173.0   \n3    AR   3017804.0        38.8           48952.0            27274.0   \n4    CA  39512223.0        37.0           80440.0            39393.0   \n\n   Poverty Count  Poverty Rate  Unemployment Rate  Uninsured Residents  \n0       739108.0     15.074039           2.276520             468901.0  \n1        71938.0      9.833708           2.822793              86187.0  \n2       958442.0     13.167733           2.429934             808643.0  \n3       474739.0     15.731273           2.224863             270970.0  \n4      4552837.0     11.522604           2.575557            3001997.0  ",
      "text/html": "<div>\n<style scoped>\n    .dataframe tbody tr th:only-of-type {\n        vertical-align: middle;\n    }\n\n    .dataframe tbody tr th {\n        vertical-align: top;\n    }\n\n    .dataframe thead th {\n        text-align: right;\n    }\n</style>\n<table border=\"1\" class=\"dataframe\">\n  <thead>\n    <tr style=\"text-align: right;\">\n      <th></th>\n      <th>State</th>\n      <th>Population</th>\n      <th>Median Age</th>\n      <th>Household Income</th>\n      <th>Per Capita Income</th>\n      <th>Poverty Count</th>\n      <th>Poverty Rate</th>\n      <th>Unemployment Rate</th>\n      <th>Uninsured Residents</th>\n    </tr>\n  </thead>\n  <tbody>\n    <tr>\n      <th>0</th>\n      <td>AL</td>\n      <td>4903185.0</td>\n      <td>39.4</td>\n      <td>51734.0</td>\n      <td>28650.0</td>\n      <td>739108.0</td>\n      <td>15.074039</td>\n      <td>2.276520</td>\n      <td>468901.0</td>\n    </tr>\n    <tr>\n      <th>1</th>\n      <td>AK</td>\n      <td>731545.0</td>\n      <td>35.0</td>\n      <td>75463.0</td>\n      <td>36978.0</td>\n      <td>71938.0</td>\n      <td>9.833708</td>\n      <td>2.822793</td>\n      <td>86187.0</td>\n    </tr>\n    <tr>\n      <th>2</th>\n      <td>AZ</td>\n      <td>7278717.0</td>\n      <td>38.3</td>\n      <td>62055.0</td>\n      <td>32173.0</td>\n      <td>958442.0</td>\n      <td>13.167733</td>\n      <td>2.429934</td>\n      <td>808643.0</td>\n    </tr>\n    <tr>\n      <th>3</th>\n      <td>AR</td>\n      <td>3017804.0</td>\n      <td>38.8</td>\n      <td>48952.0</td>\n      <td>27274.0</td>\n      <td>474739.0</td>\n      <td>15.731273</td>\n      <td>2.224863</td>\n      <td>270970.0</td>\n    </tr>\n    <tr>\n      <th>4</th>\n      <td>CA</td>\n      <td>39512223.0</td>\n      <td>37.0</td>\n      <td>80440.0</td>\n      <td>39393.0</td>\n      <td>4552837.0</td>\n      <td>11.522604</td>\n      <td>2.575557</td>\n      <td>3001997.0</td>\n    </tr>\n  </tbody>\n</table>\n</div>"
     },
     "metadata": {},
     "execution_count": 116
    }
   ],
   "source": [
    "# Transform DataSet 1\n",
    "\n",
    "# Abbreviation Dictionary\n",
    "abbrev_dict = {\n",
    "    'Alabama': 'AL',\n",
    "    'Alaska': 'AK',\n",
    "    'Arizona': 'AZ',\n",
    "    'Arkansas': 'AR',\n",
    "    'California': 'CA',\n",
    "    'Colorado': 'CO',\n",
    "    'Connecticut': 'CT',\n",
    "    'Delaware': 'DE',\n",
    "    'Florida': 'FL',\n",
    "    'Georgia': 'GA',\n",
    "    'Hawaii': 'HI',\n",
    "    'Idaho': 'ID',\n",
    "    'Illinois': 'IL',\n",
    "    'Indiana': 'IN',\n",
    "    'Iowa': 'IA',\n",
    "    'Kansas': 'KS',\n",
    "    'Kentucky': 'KY',\n",
    "    'Louisiana': 'LA',\n",
    "    'Maine': 'ME',\n",
    "    'Maryland': 'MD',\n",
    "    'Massachusetts': 'MA',\n",
    "    'Michigan': 'MI',\n",
    "    'Minnesota': 'MN',\n",
    "    'Mississippi': 'MS',\n",
    "    'Missouri': 'MO',\n",
    "    'Montana': 'MT',\n",
    "    'Nebraska': 'NE',\n",
    "    'Nevada': 'NV',\n",
    "    'New Hampshire': 'NH',\n",
    "    'New Jersey': 'NJ',\n",
    "    'New Mexico': 'NM',\n",
    "    'New York': 'NY',\n",
    "    'North Carolina': 'NC',\n",
    "    'North Dakota': 'ND',\n",
    "    'Ohio': 'OH',\n",
    "    'Oklahoma': 'OK',\n",
    "    'Oregon': 'OR',\n",
    "    'Pennsylvania': 'PA',\n",
    "    'Rhode Island': 'RI',\n",
    "    'South Carolina': 'SC',\n",
    "    'South Dakota': 'SD',\n",
    "    'Tennessee': 'TN',\n",
    "    'Texas': 'TX',\n",
    "    'Utah': 'UT',\n",
    "    'Vermont': 'VT',\n",
    "    'Virginia': 'VA',\n",
    "    'Washington': 'WA',\n",
    "    'West Virginia': 'WV',\n",
    "    'Wisconsin': 'WI',\n",
    "    'Wyoming': 'WY'}\n",
    "# Remove DC and Puerto Rico to include only 50 states\n",
    "State_Census_df = State_Census_df[State_Census_df[\"State\"] != \"District of Columbia\"]\n",
    "State_Census_df = State_Census_df[State_Census_df[\"State\"] != \"Puerto Rico\"]\n",
    "# Change State names to abbreviations\n",
    "State_Census_df = State_Census_df\n",
    "State_Census_df[\"State\"] = State_Census_df[\"State\"].map(abbrev_dict)\n",
    "State_Census_df.head()"
   ]
  },
  {
   "cell_type": "code",
   "execution_count": 117,
   "metadata": {},
   "outputs": [],
   "source": [
    "# Transform DataSet 2\n"
   ]
  },
  {
   "cell_type": "code",
   "execution_count": 118,
   "metadata": {},
   "outputs": [],
   "source": [
    "# Transform DataSet 3\n"
   ]
  },
  {
   "cell_type": "markdown",
   "metadata": {},
   "source": [
    "### Create database connection"
   ]
  },
  {
   "cell_type": "code",
   "execution_count": 119,
   "metadata": {},
   "outputs": [],
   "source": [
    "# Connects to SQL database to write tables\n",
    "db_url = \"postgres:postgres@localhost:5432/covid_census_db\"\n",
    "engine = create_engine(f'postgresql://{db_url}')"
   ]
  },
  {
   "cell_type": "markdown",
   "metadata": {},
   "source": [
    "### Load DataFrames into database"
   ]
  },
  {
   "cell_type": "code",
   "execution_count": 120,
   "metadata": {},
   "outputs": [],
   "source": [
    "# Assigns dataframe to table in SQL database\n",
    "State_Census_df.to_sql(name='state_census', con=engine, if_exists='append', index=True)"
   ]
  },
  {
   "cell_type": "code",
   "execution_count": 121,
   "metadata": {},
   "outputs": [],
   "source": [
    "# File_2_df.to_sql(name='PLACEHOLDER2', con=engine, if_exists='append', index=True)"
   ]
  },
  {
   "cell_type": "code",
   "execution_count": 122,
   "metadata": {},
   "outputs": [],
   "source": [
    "# File_3_df.to_sql(name='PLACEHOLDER3', con=engine, if_exists='append', index=True)"
   ]
  }
 ],
 "metadata": {
  "kernelspec": {
   "name": "Python 3.7.6 64-bit ('base': conda)",
   "display_name": "Python 3.7.6 64-bit ('base': conda)",
   "metadata": {
    "interpreter": {
     "hash": "623e1203b39b5d28cf65156937d8a43e49d50cc902bd0e632f310aae924da5a1"
    }
   }
  },
  "language_info": {
   "codemirror_mode": {
    "name": "ipython",
    "version": 3
   },
   "file_extension": ".py",
   "mimetype": "text/x-python",
   "name": "python",
   "nbconvert_exporter": "python",
   "pygments_lexer": "ipython3",
   "version": "3.7.6-final"
  }
 },
 "nbformat": 4,
 "nbformat_minor": 2
}